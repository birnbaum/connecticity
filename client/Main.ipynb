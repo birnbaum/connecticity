{
 "cells": [
  {
   "cell_type": "code",
   "execution_count": 1,
   "id": "f15a5407-cea5-489e-9745-c45ef493054e",
   "metadata": {},
   "outputs": [
    {
     "name": "stdout",
     "output_type": "stream",
     "text": [
      "/usr/bin/sh: 1: cd: can't cd to eclipse-mosaic-21.1\n"
     ]
    }
   ],
   "source": [
    "!cd ../eclipse-mosaic-21.1 && ./mosaic.sh -s Barnim"
   ]
  },
  {
   "cell_type": "code",
   "execution_count": null,
   "outputs": [],
   "source": [
    "!cat ../eclipse-mosaic-21.1/scenarios/Barnim/scenario_config.json"
   ],
   "metadata": {
    "collapsed": false,
    "pycharm": {
     "name": "#%%\n"
    }
   }
  },
  {
   "cell_type": "code",
   "execution_count": 3,
   "id": "b2c5be3a-de34-443d-acf2-432cf632e1c6",
   "metadata": {},
   "outputs": [
    {
     "name": "stdout",
     "output_type": "stream",
     "text": [
      "{\n",
      "    \"simulation\": {\n",
      "        \"id\": \"Barnim\",\n",
      "        \"duration\": \"1000s\",\n",
      "        \"randomSeed\": 212323853,\n",
      "        \"projection\": {\n",
      "            \"centerCoordinates\": {\n",
      "                \"latitude\": 52.63,\n",
      "                \"longitude\": 13.56\n",
      "            },\n",
      "            \"cartesianOffset\": {\n",
      "                \"x\": -395635.35,\n",
      "                \"y\": -5826456.24\n",
      "            }\n",
      "        },\n",
      "        \"network\": {\n",
      "            \"netMask\": \"255.255.0.0\",\n",
      "            \"vehicleNet\": \"10.1.0.0\",\n",
      "            \"rsuNet\": \"10.2.0.0\",\n",
      "            \"tlNet\": \"10.3.0.0\",\n",
      "            \"csNet\": \"10.4.0.0\",\n",
      "            \"serverNet\": \"10.5.0.0\",\n",
      "            \"tmcNet\": \"10.6.0.0\"\n",
      "        }\n",
      "    },\n",
      "    \"federates\": {\n",
      "        \"application\": true,\n",
      "        \"cell\": false,\n",
      "        \"environment\": true,\n",
      "        \"sns\": true,\n",
      "        \"ns3\": false,\n",
      "        \"omnetpp\": false,\n",
      "        \"output\": true,\n",
      "        \"sumo\": true\n",
      "    }\n",
      "}\n"
     ]
    }
   ],
   "source": []
  },
  {
   "cell_type": "code",
   "execution_count": null,
   "id": "55ded6e4-564f-4f47-a29a-12e3d4f3e92d",
   "metadata": {},
   "outputs": [],
   "source": []
  }
 ],
 "metadata": {
  "kernelspec": {
   "display_name": "Python 3 (ipykernel)",
   "language": "python",
   "name": "python3"
  },
  "language_info": {
   "codemirror_mode": {
    "name": "ipython",
    "version": 3
   },
   "file_extension": ".py",
   "mimetype": "text/x-python",
   "name": "python",
   "nbconvert_exporter": "python",
   "pygments_lexer": "ipython3",
   "version": "3.8.10"
  }
 },
 "nbformat": 4,
 "nbformat_minor": 5
}