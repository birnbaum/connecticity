{
 "cells": [
  {
   "cell_type": "code",
   "execution_count": 6,
   "id": "f15a5407-cea5-489e-9745-c45ef493054e",
   "metadata": {
    "pycharm": {
     "name": "#%%\n"
    }
   },
   "outputs": [
    {
     "name": "stdout",
     "output_type": "stream",
     "text": [
      "2021-10-26 15:39:34,813 INFO  ROOT - Running Eclipse MOSAIC 21.1 on Java JRE v11.0.11 (Ubuntu)\n",
      "2021-10-26 15:39:35,197 INFO  FederationManagement - Start federation with id 'Barnim'\n",
      "2021-10-26 15:39:35,199 INFO  FederationManagement - Add ambassador/federate with id 'application'\n",
      "2021-10-26 15:39:35,201 INFO  FederationManagement - Add ambassador/federate with id 'environment'\n",
      "2021-10-26 15:39:35,202 INFO  FederationManagement - Add ambassador/federate with id 'mapping'\n",
      "2021-10-26 15:39:35,206 INFO  FederationManagement - Add ambassador/federate with id 'sns'\n",
      "2021-10-26 15:39:35,207 INFO  FederationManagement - Add ambassador/federate with id 'sumo'\n",
      "2021-10-26 15:39:35,208 INFO  FederationManagement - Deploying federate 'sumo' locally in ./tmp/sumo\n",
      "2021-10-26 15:39:35,911 INFO  FederationManagement - Starting federate 'sumo' locally in ./tmp/sumo\n",
      "2021-10-26 15:39:35,912 INFO  FederationManagement - Add ambassador/federate with id 'output'\n",
      "15:40:23 - Simulating: 1000000000000ns (1000.0s) - 100.0%                                                       \n",
      "2021-10-26 15:40:23,040 INFO  SequentialTimeManagement - Simulation ended after 1000s of 1000s (100%)\n",
      "2021-10-26 15:40:23,041 INFO  SequentialTimeManagement - Started: 2021-10-26 15:39:38\n",
      "2021-10-26 15:40:23,042 INFO  SequentialTimeManagement - Ended: 2021-10-26 15:40:23\n",
      "2021-10-26 15:40:23,047 INFO  SequentialTimeManagement - Duration: 00h 00m 44.195s (RTF: 22.00)\n",
      "2021-10-26 15:40:23,047 INFO  SequentialTimeManagement - \n",
      "2021-10-26 15:40:23,048 INFO  SequentialTimeManagement - Simulation finished: 101\n"
     ]
    }
   ],
   "source": [
    "!cd ../eclipse-mosaic-21.1 && ./mosaic.sh -s Barnim"
   ]
  }
 ],
 "metadata": {
  "kernelspec": {
   "display_name": "Python 3 (ipykernel)",
   "language": "python",
   "name": "python3"
  },
  "language_info": {
   "codemirror_mode": {
    "name": "ipython",
    "version": 3
   },
   "file_extension": ".py",
   "mimetype": "text/x-python",
   "name": "python",
   "nbconvert_exporter": "python",
   "pygments_lexer": "ipython3",
   "version": "3.8.10"
  }
 },
 "nbformat": 4,
 "nbformat_minor": 5
}